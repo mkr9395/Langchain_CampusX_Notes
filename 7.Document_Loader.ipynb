{
 "cells": [
  {
   "cell_type": "markdown",
   "id": "8885d08c",
   "metadata": {},
   "source": [
    "# SESSION 10 : Document Loaders in LangChain | Generative AI using LangChain | Video 10"
   ]
  },
  {
   "cell_type": "markdown",
   "id": "114d4952",
   "metadata": {},
   "source": [
    "https://youtu.be/bL92ALSZ2Cg?list=PLKnIA16_RmvaTbihpo4MtzVm4XOQa0ER0"
   ]
  },
  {
   "cell_type": "markdown",
   "id": "5d1c7a22",
   "metadata": {},
   "source": []
  },
  {
   "cell_type": "markdown",
   "id": "bcf77950",
   "metadata": {},
   "source": []
  },
  {
   "cell_type": "markdown",
   "id": "bd3e8b31",
   "metadata": {},
   "source": []
  },
  {
   "cell_type": "markdown",
   "id": "5b24aca8",
   "metadata": {},
   "source": []
  },
  {
   "cell_type": "markdown",
   "id": "ba36c72a",
   "metadata": {},
   "source": []
  },
  {
   "cell_type": "markdown",
   "id": "8fa1eff4",
   "metadata": {},
   "source": []
  },
  {
   "cell_type": "markdown",
   "id": "93de293f",
   "metadata": {},
   "source": []
  },
  {
   "cell_type": "markdown",
   "id": "52c7d2e5",
   "metadata": {},
   "source": []
  },
  {
   "cell_type": "code",
   "execution_count": null,
   "id": "4b9d2400",
   "metadata": {},
   "outputs": [],
   "source": []
  }
 ],
 "metadata": {
  "kernelspec": {
   "display_name": "Python 3 (ipykernel)",
   "language": "python",
   "name": "python3"
  },
  "language_info": {
   "codemirror_mode": {
    "name": "ipython",
    "version": 3
   },
   "file_extension": ".py",
   "mimetype": "text/x-python",
   "name": "python",
   "nbconvert_exporter": "python",
   "pygments_lexer": "ipython3",
   "version": "3.9.13"
  }
 },
 "nbformat": 4,
 "nbformat_minor": 5
}
