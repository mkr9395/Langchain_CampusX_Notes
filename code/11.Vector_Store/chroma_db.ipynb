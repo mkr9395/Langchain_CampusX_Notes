{
 "cells": [
  {
   "cell_type": "code",
   "execution_count": null,
   "id": "9a2e9dcf",
   "metadata": {},
   "outputs": [
    {
     "ename": "",
     "evalue": "",
     "output_type": "error",
     "traceback": [
      "\u001b[1;31mFailed to start the Kernel. \n",
      "\u001b[1;31mThe kernel died. Error: ... View Jupyter <a href='command:jupyter.viewOutput'>log</a> for further details."
     ]
    }
   ],
   "source": [
    "# !pip install chromadb tiktoken"
   ]
  },
  {
   "cell_type": "code",
   "execution_count": 11,
   "id": "7797b484",
   "metadata": {},
   "outputs": [],
   "source": [
    "from langchain_openai import OpenAIEmbeddings\n",
    "# from langchain.vectorstores import Chroma"
   ]
  },
  {
   "cell_type": "code",
   "execution_count": 12,
   "id": "a582dd54",
   "metadata": {},
   "outputs": [],
   "source": [
    "from langchain_chroma import Chroma"
   ]
  },
  {
   "cell_type": "code",
   "execution_count": 13,
   "id": "cd8c03b4",
   "metadata": {},
   "outputs": [],
   "source": [
    "from langchain.schema import Document"
   ]
  },
  {
   "cell_type": "code",
   "execution_count": 14,
   "id": "ba503301",
   "metadata": {},
   "outputs": [],
   "source": [
    "# Create LangChain documents for IPL players\n",
    "\n",
    "doc1 = Document(\n",
    "        page_content=\"Virat Kohli is one of the most successful and consistent batsmen in IPL history. Known for his aggressive batting style and fitness, he has led the Royal Challengers Bangalore in multiple seasons.\",\n",
    "        metadata={\"team\": \"Royal Challengers Bangalore\"}\n",
    "    )\n",
    "doc2 = Document(\n",
    "        page_content=\"Rohit Sharma is the most successful captain in IPL history, leading Mumbai Indians to five titles. He's known for his calm demeanor and ability to play big innings under pressure.\",\n",
    "        metadata={\"team\": \"Mumbai Indians\"}\n",
    "    )\n",
    "doc3 = Document(\n",
    "        page_content=\"MS Dhoni, famously known as Captain Cool, has led Chennai Super Kings to multiple IPL titles. His finishing skills, wicketkeeping, and leadership are legendary.\",\n",
    "        metadata={\"team\": \"Chennai Super Kings\"}\n",
    "    )\n",
    "doc4 = Document(\n",
    "        page_content=\"Jasprit Bumrah is considered one of the best fast bowlers in T20 cricket. Playing for Mumbai Indians, he is known for his yorkers and death-over expertise.\",\n",
    "        metadata={\"team\": \"Mumbai Indians\"}\n",
    "    )\n",
    "doc5 = Document(\n",
    "        page_content=\"Ravindra Jadeja is a dynamic all-rounder who contributes with both bat and ball. Representing Chennai Super Kings, his quick fielding and match-winning performances make him a key player.\",\n",
    "        metadata={\"team\": \"Chennai Super Kings\"}\n",
    "    )"
   ]
  },
  {
   "cell_type": "code",
   "execution_count": 15,
   "id": "21199807",
   "metadata": {},
   "outputs": [],
   "source": [
    "docs = [doc1, doc2, doc3, doc4, doc5]"
   ]
  },
  {
   "cell_type": "code",
   "execution_count": null,
   "id": "c21a5014",
   "metadata": {},
   "outputs": [],
   "source": [
    "vector_store = Chroma(\n",
    "    embedding_function=OpenAIEmbeddings(), # provide embedding function/model\n",
    "    persist_directory='my_chroma_db', # loacation where embeddings will be saved\n",
    "    collection_name='sample' # create a collection\n",
    ")"
   ]
  },
  {
   "cell_type": "markdown",
   "id": "fa6044ed",
   "metadata": {},
   "source": [
    "### Chroma saves the database in a `.sqlite3` database"
   ]
  },
  {
   "cell_type": "code",
   "execution_count": null,
   "id": "4d0679a0",
   "metadata": {},
   "outputs": [
    {
     "data": {
      "text/plain": [
       "['4fbadedb-e4e1-4da1-87c3-800b8ad7ca3e',\n",
       " 'c21aa93f-2f36-4bb6-a565-e2818f6a2bce',\n",
       " 'c8bca5e8-3caf-43f6-8557-1a75623a9dc8',\n",
       " 'c83ffd12-78ea-4d67-a9dd-a2cdba7b1c29',\n",
       " '3a657a6d-8814-4236-af6f-8a549be5123e']"
      ]
     },
     "execution_count": 17,
     "metadata": {},
     "output_type": "execute_result"
    }
   ],
   "source": [
    "# add documents\n",
    "vector_store.add_documents(docs)\n",
    "\n",
    "\n",
    "# every document is given a unique id by default"
   ]
  },
  {
   "cell_type": "code",
   "execution_count": null,
   "id": "b97a8882",
   "metadata": {},
   "outputs": [
    {
     "data": {
      "text/plain": [
       "{'ids': ['4fbadedb-e4e1-4da1-87c3-800b8ad7ca3e',\n",
       "  'c21aa93f-2f36-4bb6-a565-e2818f6a2bce',\n",
       "  'c8bca5e8-3caf-43f6-8557-1a75623a9dc8',\n",
       "  'c83ffd12-78ea-4d67-a9dd-a2cdba7b1c29',\n",
       "  '3a657a6d-8814-4236-af6f-8a549be5123e'],\n",
       " 'embeddings': array([[-2.07734108e-03, -2.16356432e-03,  2.67739072e-02, ...,\n",
       "         -1.70658119e-02, -3.68524459e-03,  1.35402400e-02],\n",
       "        [-2.70681921e-03, -5.47363961e-05,  2.82030534e-02, ...,\n",
       "         -1.50933377e-02,  5.93815418e-03, -1.16601437e-02],\n",
       "        [ 7.83727213e-04, -4.76402277e-03,  1.23708826e-02, ...,\n",
       "         -1.72387529e-02,  7.74397107e-04,  2.93532619e-03],\n",
       "        [-2.71391869e-02,  8.87096301e-03,  2.69362777e-02, ...,\n",
       "         -2.58583203e-02,  9.02314577e-03, -1.99992992e-02],\n",
       "        [-1.81433018e-02,  1.27527108e-02,  3.47932205e-02, ...,\n",
       "         -3.03654689e-02, -5.85236121e-03,  5.21374308e-03]],\n",
       "       shape=(5, 1536)),\n",
       " 'documents': ['Virat Kohli is one of the most successful and consistent batsmen in IPL history. Known for his aggressive batting style and fitness, he has led the Royal Challengers Bangalore in multiple seasons.',\n",
       "  \"Rohit Sharma is the most successful captain in IPL history, leading Mumbai Indians to five titles. He's known for his calm demeanor and ability to play big innings under pressure.\",\n",
       "  'MS Dhoni, famously known as Captain Cool, has led Chennai Super Kings to multiple IPL titles. His finishing skills, wicketkeeping, and leadership are legendary.',\n",
       "  'Jasprit Bumrah is considered one of the best fast bowlers in T20 cricket. Playing for Mumbai Indians, he is known for his yorkers and death-over expertise.',\n",
       "  'Ravindra Jadeja is a dynamic all-rounder who contributes with both bat and ball. Representing Chennai Super Kings, his quick fielding and match-winning performances make him a key player.'],\n",
       " 'uris': None,\n",
       " 'included': ['embeddings', 'documents', 'metadatas'],\n",
       " 'data': None,\n",
       " 'metadatas': [{'team': 'Royal Challengers Bangalore'},\n",
       "  {'team': 'Mumbai Indians'},\n",
       "  {'team': 'Chennai Super Kings'},\n",
       "  {'team': 'Mumbai Indians'},\n",
       "  {'team': 'Chennai Super Kings'}]}"
      ]
     },
     "execution_count": 18,
     "metadata": {},
     "output_type": "execute_result"
    }
   ],
   "source": [
    "# view documents -> using .get\n",
    "vector_store.get(include=['embeddings','documents', 'metadatas'])"
   ]
  },
  {
   "cell_type": "code",
   "execution_count": null,
   "id": "817950a8",
   "metadata": {},
   "outputs": [
    {
     "data": {
      "text/plain": [
       "[Document(id='c83ffd12-78ea-4d67-a9dd-a2cdba7b1c29', metadata={'team': 'Mumbai Indians'}, page_content='Jasprit Bumrah is considered one of the best fast bowlers in T20 cricket. Playing for Mumbai Indians, he is known for his yorkers and death-over expertise.'),\n",
       " Document(id='3a657a6d-8814-4236-af6f-8a549be5123e', metadata={'team': 'Chennai Super Kings'}, page_content='Ravindra Jadeja is a dynamic all-rounder who contributes with both bat and ball. Representing Chennai Super Kings, his quick fielding and match-winning performances make him a key player.')]"
      ]
     },
     "execution_count": 19,
     "metadata": {},
     "output_type": "execute_result"
    }
   ],
   "source": [
    "# search documents\n",
    "vector_store.similarity_search(\n",
    "    query='Who among these are a bowler?',\n",
    "    k=2 # how many similar vectors you want\n",
    ")"
   ]
  },
  {
   "cell_type": "code",
   "execution_count": 20,
   "id": "065983e6",
   "metadata": {},
   "outputs": [
    {
     "data": {
      "text/plain": [
       "[(Document(id='c83ffd12-78ea-4d67-a9dd-a2cdba7b1c29', metadata={'team': 'Mumbai Indians'}, page_content='Jasprit Bumrah is considered one of the best fast bowlers in T20 cricket. Playing for Mumbai Indians, he is known for his yorkers and death-over expertise.'),\n",
       "  0.35432544350624084),\n",
       " (Document(id='3a657a6d-8814-4236-af6f-8a549be5123e', metadata={'team': 'Chennai Super Kings'}, page_content='Ravindra Jadeja is a dynamic all-rounder who contributes with both bat and ball. Representing Chennai Super Kings, his quick fielding and match-winning performances make him a key player.'),\n",
       "  0.4086669683456421)]"
      ]
     },
     "execution_count": 20,
     "metadata": {},
     "output_type": "execute_result"
    }
   ],
   "source": [
    "# search with similarity score\n",
    "vector_store.similarity_search_with_score(\n",
    "    query='Who among these are a bowler?',\n",
    "    k=2\n",
    ")"
   ]
  },
  {
   "cell_type": "code",
   "execution_count": 21,
   "id": "cd410873",
   "metadata": {},
   "outputs": [
    {
     "data": {
      "text/plain": [
       "[(Document(id='c8bca5e8-3caf-43f6-8557-1a75623a9dc8', metadata={'team': 'Chennai Super Kings'}, page_content='MS Dhoni, famously known as Captain Cool, has led Chennai Super Kings to multiple IPL titles. His finishing skills, wicketkeeping, and leadership are legendary.'),\n",
       "  0.6488070487976074),\n",
       " (Document(id='3a657a6d-8814-4236-af6f-8a549be5123e', metadata={'team': 'Chennai Super Kings'}, page_content='Ravindra Jadeja is a dynamic all-rounder who contributes with both bat and ball. Representing Chennai Super Kings, his quick fielding and match-winning performances make him a key player.'),\n",
       "  0.6565988659858704)]"
      ]
     },
     "execution_count": 21,
     "metadata": {},
     "output_type": "execute_result"
    }
   ],
   "source": [
    "# meta-data filtering\n",
    "vector_store.similarity_search_with_score(\n",
    "    query=\"\",\n",
    "    filter={\"team\": \"Chennai Super Kings\"}\n",
    ")"
   ]
  },
  {
   "cell_type": "code",
   "execution_count": null,
   "id": "5d327366",
   "metadata": {},
   "outputs": [],
   "source": [
    "# update existing documents\n",
    "updated_doc1 = Document(\n",
    "    page_content=\"Virat Kohli, the former captain of Royal Challengers Bangalore (RCB), is renowned for his aggressive leadership and consistent batting performances. He holds the record for the most runs in IPL history, including multiple centuries in a single season. Despite RCB not winning an IPL title under his captaincy, Kohli's passion and fitness set a benchmark for the league. His ability to chase targets and anchor innings has made him one of the most dependable players in T20 cricket.\",\n",
    "    metadata={\"team\": \"Royal Challengers Bangalore\"}\n",
    ")\n",
    "\n",
    "vector_store.update_document(document_id='09a39dc6-3ba6-4ea7-927e-fdda591da5e4', document=updated_doc1)"
   ]
  },
  {
   "cell_type": "code",
   "execution_count": 23,
   "id": "b41d3027",
   "metadata": {},
   "outputs": [
    {
     "data": {
      "text/plain": [
       "{'ids': ['4fbadedb-e4e1-4da1-87c3-800b8ad7ca3e',\n",
       "  'c21aa93f-2f36-4bb6-a565-e2818f6a2bce',\n",
       "  'c8bca5e8-3caf-43f6-8557-1a75623a9dc8',\n",
       "  'c83ffd12-78ea-4d67-a9dd-a2cdba7b1c29',\n",
       "  '3a657a6d-8814-4236-af6f-8a549be5123e'],\n",
       " 'embeddings': array([[-2.07734108e-03, -2.16356432e-03,  2.67739072e-02, ...,\n",
       "         -1.70658119e-02, -3.68524459e-03,  1.35402400e-02],\n",
       "        [-2.70681921e-03, -5.47363961e-05,  2.82030534e-02, ...,\n",
       "         -1.50933377e-02,  5.93815418e-03, -1.16601437e-02],\n",
       "        [ 7.83727213e-04, -4.76402277e-03,  1.23708826e-02, ...,\n",
       "         -1.72387529e-02,  7.74397107e-04,  2.93532619e-03],\n",
       "        [-2.71391869e-02,  8.87096301e-03,  2.69362777e-02, ...,\n",
       "         -2.58583203e-02,  9.02314577e-03, -1.99992992e-02],\n",
       "        [-1.81433018e-02,  1.27527108e-02,  3.47932205e-02, ...,\n",
       "         -3.03654689e-02, -5.85236121e-03,  5.21374308e-03]],\n",
       "       shape=(5, 1536)),\n",
       " 'documents': ['Virat Kohli is one of the most successful and consistent batsmen in IPL history. Known for his aggressive batting style and fitness, he has led the Royal Challengers Bangalore in multiple seasons.',\n",
       "  \"Rohit Sharma is the most successful captain in IPL history, leading Mumbai Indians to five titles. He's known for his calm demeanor and ability to play big innings under pressure.\",\n",
       "  'MS Dhoni, famously known as Captain Cool, has led Chennai Super Kings to multiple IPL titles. His finishing skills, wicketkeeping, and leadership are legendary.',\n",
       "  'Jasprit Bumrah is considered one of the best fast bowlers in T20 cricket. Playing for Mumbai Indians, he is known for his yorkers and death-over expertise.',\n",
       "  'Ravindra Jadeja is a dynamic all-rounder who contributes with both bat and ball. Representing Chennai Super Kings, his quick fielding and match-winning performances make him a key player.'],\n",
       " 'uris': None,\n",
       " 'included': ['embeddings', 'documents', 'metadatas'],\n",
       " 'data': None,\n",
       " 'metadatas': [{'team': 'Royal Challengers Bangalore'},\n",
       "  {'team': 'Mumbai Indians'},\n",
       "  {'team': 'Chennai Super Kings'},\n",
       "  {'team': 'Mumbai Indians'},\n",
       "  {'team': 'Chennai Super Kings'}]}"
      ]
     },
     "execution_count": 23,
     "metadata": {},
     "output_type": "execute_result"
    }
   ],
   "source": [
    "# view documents\n",
    "vector_store.get(include=['embeddings','documents', 'metadatas'])"
   ]
  },
  {
   "cell_type": "code",
   "execution_count": null,
   "id": "1897bbab",
   "metadata": {},
   "outputs": [],
   "source": [
    "# delete document\n",
    "vector_store.delete(ids=['4fbadedb-e4e1-4da1-87c3-800b8ad7ca3e'])"
   ]
  },
  {
   "cell_type": "code",
   "execution_count": 24,
   "id": "82e13be3",
   "metadata": {},
   "outputs": [
    {
     "data": {
      "text/plain": [
       "{'ids': ['4fbadedb-e4e1-4da1-87c3-800b8ad7ca3e',\n",
       "  'c21aa93f-2f36-4bb6-a565-e2818f6a2bce',\n",
       "  'c8bca5e8-3caf-43f6-8557-1a75623a9dc8',\n",
       "  'c83ffd12-78ea-4d67-a9dd-a2cdba7b1c29',\n",
       "  '3a657a6d-8814-4236-af6f-8a549be5123e'],\n",
       " 'embeddings': array([[-2.07734108e-03, -2.16356432e-03,  2.67739072e-02, ...,\n",
       "         -1.70658119e-02, -3.68524459e-03,  1.35402400e-02],\n",
       "        [-2.70681921e-03, -5.47363961e-05,  2.82030534e-02, ...,\n",
       "         -1.50933377e-02,  5.93815418e-03, -1.16601437e-02],\n",
       "        [ 7.83727213e-04, -4.76402277e-03,  1.23708826e-02, ...,\n",
       "         -1.72387529e-02,  7.74397107e-04,  2.93532619e-03],\n",
       "        [-2.71391869e-02,  8.87096301e-03,  2.69362777e-02, ...,\n",
       "         -2.58583203e-02,  9.02314577e-03, -1.99992992e-02],\n",
       "        [-1.81433018e-02,  1.27527108e-02,  3.47932205e-02, ...,\n",
       "         -3.03654689e-02, -5.85236121e-03,  5.21374308e-03]],\n",
       "       shape=(5, 1536)),\n",
       " 'documents': ['Virat Kohli is one of the most successful and consistent batsmen in IPL history. Known for his aggressive batting style and fitness, he has led the Royal Challengers Bangalore in multiple seasons.',\n",
       "  \"Rohit Sharma is the most successful captain in IPL history, leading Mumbai Indians to five titles. He's known for his calm demeanor and ability to play big innings under pressure.\",\n",
       "  'MS Dhoni, famously known as Captain Cool, has led Chennai Super Kings to multiple IPL titles. His finishing skills, wicketkeeping, and leadership are legendary.',\n",
       "  'Jasprit Bumrah is considered one of the best fast bowlers in T20 cricket. Playing for Mumbai Indians, he is known for his yorkers and death-over expertise.',\n",
       "  'Ravindra Jadeja is a dynamic all-rounder who contributes with both bat and ball. Representing Chennai Super Kings, his quick fielding and match-winning performances make him a key player.'],\n",
       " 'uris': None,\n",
       " 'included': ['embeddings', 'documents', 'metadatas'],\n",
       " 'data': None,\n",
       " 'metadatas': [{'team': 'Royal Challengers Bangalore'},\n",
       "  {'team': 'Mumbai Indians'},\n",
       "  {'team': 'Chennai Super Kings'},\n",
       "  {'team': 'Mumbai Indians'},\n",
       "  {'team': 'Chennai Super Kings'}]}"
      ]
     },
     "execution_count": 24,
     "metadata": {},
     "output_type": "execute_result"
    }
   ],
   "source": [
    "# view documents\n",
    "vector_store.get(include=['embeddings','documents', 'metadatas'])"
   ]
  },
  {
   "cell_type": "code",
   "execution_count": null,
   "id": "59ec9027",
   "metadata": {},
   "outputs": [],
   "source": []
  }
 ],
 "metadata": {
  "kernelspec": {
   "display_name": ".venv",
   "language": "python",
   "name": "python3"
  },
  "language_info": {
   "codemirror_mode": {
    "name": "ipython",
    "version": 3
   },
   "file_extension": ".py",
   "mimetype": "text/x-python",
   "name": "python",
   "nbconvert_exporter": "python",
   "pygments_lexer": "ipython3",
   "version": "3.11.9"
  }
 },
 "nbformat": 4,
 "nbformat_minor": 5
}
