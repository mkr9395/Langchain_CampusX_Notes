{
 "cells": [
  {
   "cell_type": "code",
   "execution_count": 1,
   "id": "b9877b50",
   "metadata": {},
   "outputs": [],
   "source": [
    "from langchain_community.vectorstores import Chroma\n",
    "from langchain_openai import OpenAIEmbeddings\n",
    "from langchain_core.documents import Document"
   ]
  },
  {
   "cell_type": "code",
   "execution_count": 2,
   "id": "b478156d",
   "metadata": {},
   "outputs": [],
   "source": [
    "# Step 1: Your source documents\n",
    "documents = [\n",
    "    Document(page_content=\"LangChain helps developers build LLM applications easily.\"),\n",
    "    Document(page_content=\"Chroma is a vector database optimized for LLM-based search.\"),\n",
    "    Document(page_content=\"Embeddings convert text into high-dimensional vectors.\"),\n",
    "    Document(page_content=\"OpenAI provides powerful embedding models.\"),\n",
    "]"
   ]
  },
  {
   "cell_type": "code",
   "execution_count": 5,
   "id": "d47cac9d",
   "metadata": {},
   "outputs": [],
   "source": [
    "# Step 2: Initialize embedding model\n",
    "\n",
    "embedding_model =OpenAIEmbeddings()"
   ]
  },
  {
   "cell_type": "code",
   "execution_count": 6,
   "id": "7fc9ff2d",
   "metadata": {},
   "outputs": [],
   "source": [
    "# Step 3: Create Chroma vector store in memory\n",
    "\n",
    "vectorstore = Chroma.from_documents(\n",
    "    documents=documents,\n",
    "    embedding=embedding_model,\n",
    "    collection_name = \"my_collection\"\n",
    ")"
   ]
  },
  {
   "cell_type": "code",
   "execution_count": 7,
   "id": "6dcfc2fd",
   "metadata": {},
   "outputs": [],
   "source": [
    "# Step 4: Convert vectorstore into a retriever\n",
    "\n",
    "retriever = vectorstore.as_retriever(search_kwargs = {'k':2})"
   ]
  },
  {
   "cell_type": "code",
   "execution_count": null,
   "id": "517dbb35",
   "metadata": {},
   "outputs": [],
   "source": [
    "query = \"What is Chroma used for\"\n",
    "\n",
    "results = retriever.invoke(query) # retriever itself will perform semantic search similarity comaptible with any strategy"
   ]
  },
  {
   "cell_type": "code",
   "execution_count": 9,
   "id": "ca8cc984",
   "metadata": {},
   "outputs": [
    {
     "name": "stdout",
     "output_type": "stream",
     "text": [
      "----\n",
      " Result 1 -------\n",
      "Chroma is a vector database optimized for LLM-based search.\n",
      "----\n",
      " Result 2 -------\n",
      "LangChain helps developers build LLM applications easily.\n"
     ]
    }
   ],
   "source": [
    "for i, docs in enumerate(results):\n",
    "    print(f\"----\\n Result {i+1} -------\")\n",
    "    print(docs.page_content)"
   ]
  },
  {
   "cell_type": "code",
   "execution_count": null,
   "id": "6d9e8c7a",
   "metadata": {},
   "outputs": [],
   "source": [
    "# doing directly from vector store without making retriever -> only based on 1 strategy\n",
    "results = vectorstore.similarity_search(query, k=2)"
   ]
  },
  {
   "cell_type": "code",
   "execution_count": 11,
   "id": "e1079805",
   "metadata": {},
   "outputs": [
    {
     "name": "stdout",
     "output_type": "stream",
     "text": [
      "\n",
      "--- Result 1 ---\n",
      "Chroma is a vector database optimized for LLM-based search.\n",
      "\n",
      "--- Result 2 ---\n",
      "LangChain helps developers build LLM applications easily.\n"
     ]
    }
   ],
   "source": [
    "for i, doc in enumerate(results):\n",
    "    print(f\"\\n--- Result {i+1} ---\")\n",
    "    print(doc.page_content)"
   ]
  },
  {
   "cell_type": "code",
   "execution_count": null,
   "id": "1d6158d9",
   "metadata": {},
   "outputs": [],
   "source": []
  }
 ],
 "metadata": {
  "kernelspec": {
   "display_name": ".venv",
   "language": "python",
   "name": "python3"
  },
  "language_info": {
   "codemirror_mode": {
    "name": "ipython",
    "version": 3
   },
   "file_extension": ".py",
   "mimetype": "text/x-python",
   "name": "python",
   "nbconvert_exporter": "python",
   "pygments_lexer": "ipython3",
   "version": "3.11.9"
  }
 },
 "nbformat": 4,
 "nbformat_minor": 5
}
