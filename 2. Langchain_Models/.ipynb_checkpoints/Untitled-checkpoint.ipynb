{
 "cells": [
  {
   "cell_type": "markdown",
   "id": "170f6136",
   "metadata": {},
   "source": [
    "# SESSION 5 : LangChain Models | Indepth Tutorial with Code Demo | Video 3 "
   ]
  },
  {
   "cell_type": "markdown",
   "id": "dafae58f",
   "metadata": {},
   "source": [
    "https://youtu.be/HdcLE8JuMrA?list=PLKnIA16_RmvaTbihpo4MtzVm4XOQa0ER0"
   ]
  },
  {
   "cell_type": "code",
   "execution_count": null,
   "id": "e0b7ae54",
   "metadata": {},
   "outputs": [],
   "source": []
  }
 ],
 "metadata": {
  "kernelspec": {
   "display_name": "Python 3 (ipykernel)",
   "language": "python",
   "name": "python3"
  },
  "language_info": {
   "codemirror_mode": {
    "name": "ipython",
    "version": 3
   },
   "file_extension": ".py",
   "mimetype": "text/x-python",
   "name": "python",
   "nbconvert_exporter": "python",
   "pygments_lexer": "ipython3",
   "version": "3.9.13"
  }
 },
 "nbformat": 4,
 "nbformat_minor": 5
}
