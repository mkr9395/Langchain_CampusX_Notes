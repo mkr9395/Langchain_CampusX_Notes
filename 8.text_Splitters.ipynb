{
 "cells": [
  {
   "cell_type": "markdown",
   "id": "168825d5",
   "metadata": {},
   "source": [
    "# SESSION 13 : "
   ]
  },
  {
   "cell_type": "markdown",
   "id": "f44b2573",
   "metadata": {},
   "source": []
  },
  {
   "cell_type": "markdown",
   "id": "bfae46af",
   "metadata": {},
   "source": []
  },
  {
   "cell_type": "markdown",
   "id": "c927a8ed",
   "metadata": {},
   "source": []
  },
  {
   "cell_type": "markdown",
   "id": "6890c02a",
   "metadata": {},
   "source": []
  },
  {
   "cell_type": "markdown",
   "id": "4d69f17f",
   "metadata": {},
   "source": []
  },
  {
   "cell_type": "markdown",
   "id": "de96b082",
   "metadata": {},
   "source": []
  },
  {
   "cell_type": "markdown",
   "id": "d125628d",
   "metadata": {},
   "source": []
  },
  {
   "cell_type": "markdown",
   "id": "188e1e79",
   "metadata": {},
   "source": []
  },
  {
   "cell_type": "markdown",
   "id": "579fb76a",
   "metadata": {},
   "source": []
  },
  {
   "cell_type": "markdown",
   "id": "e9469d5c",
   "metadata": {},
   "source": []
  },
  {
   "cell_type": "markdown",
   "id": "df62d43d",
   "metadata": {},
   "source": []
  },
  {
   "cell_type": "markdown",
   "id": "ee8ff076",
   "metadata": {},
   "source": []
  },
  {
   "cell_type": "markdown",
   "id": "9fc59fd9",
   "metadata": {},
   "source": []
  },
  {
   "cell_type": "markdown",
   "id": "1f293fc3",
   "metadata": {},
   "source": []
  },
  {
   "cell_type": "markdown",
   "id": "b1ba20f9",
   "metadata": {},
   "source": []
  },
  {
   "cell_type": "markdown",
   "id": "12536a9c",
   "metadata": {},
   "source": []
  },
  {
   "cell_type": "markdown",
   "id": "274d84a0",
   "metadata": {},
   "source": []
  }
 ],
 "metadata": {
  "kernelspec": {
   "display_name": "Python 3 (ipykernel)",
   "language": "python",
   "name": "python3"
  },
  "language_info": {
   "codemirror_mode": {
    "name": "ipython",
    "version": 3
   },
   "file_extension": ".py",
   "mimetype": "text/x-python",
   "name": "python",
   "nbconvert_exporter": "python",
   "pygments_lexer": "ipython3",
   "version": "3.9.13"
  }
 },
 "nbformat": 4,
 "nbformat_minor": 5
}
