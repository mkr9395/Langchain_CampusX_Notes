{
 "cells": [
  {
   "cell_type": "markdown",
   "id": "a6af6cb2",
   "metadata": {},
   "source": [
    "# SESSION 8 : Output Parsers in LangChain | Generative AI using LangChain | Video 6"
   ]
  },
  {
   "cell_type": "markdown",
   "id": "e7654258",
   "metadata": {},
   "source": [
    "https://youtu.be/Op6PbJZ5b2Q?list=PLKnIA16_RmvaTbihpo4MtzVm4XOQa0ER0"
   ]
  },
  {
   "cell_type": "markdown",
   "id": "52fda9e8",
   "metadata": {},
   "source": [
    "### Open source models don't give structured_output, so we need Output parsers for it. They can work with both can and can't model"
   ]
  },
  {
   "cell_type": "markdown",
   "id": "66e6c067",
   "metadata": {},
   "source": [
    "__Output Parsers__ in LangChain help convert raw LLM responses into structured formats like JSON, CSV, Pydantic models, and more. They ensure consistency, validation, and ease of use in applications."
   ]
  },
  {
   "cell_type": "markdown",
   "id": "63928988",
   "metadata": {},
   "source": [
    "\n",
    "\n",
    "In **LangChain**, an **Output Parser** is a utility that:\n",
    "\n",
    "* **Takes the raw text output** from an LLM.\n",
    "\n",
    "\n",
    "* **Converts/parses it into structured Python objects** (dicts, lists, Pydantic models, JSON, etc.).\n",
    "\n",
    "\n",
    "* Optionally provides **formatting instructions** back to the LLM, so the LLM knows how to respond.\n",
    "\n",
    "👉 Think of it as the “translator” between **free-text LLM output** and **structured data your code can use**."
   ]
  },
  {
   "cell_type": "markdown",
   "id": "cb432669",
   "metadata": {},
   "source": [
    "### 🔹 Why do we need Output Parsers?\n",
    "\n",
    "LLMs naturally return unstructured text. But in real-world apps, you usually need structured results:\n",
    "\n",
    "* ✅ Extracting entities (name, date, amount).\n",
    "* ✅ Returning valid JSON (not \"almost JSON\").\n",
    "* ✅ Parsing classification labels (positive/negative).\n",
    "* ✅ Turning outputs into **Python objects** that your pipeline can consume.\n",
    "\n",
    "Without parsers, you’d have to do brittle post-processing with regex, JSON parsing, etc."
   ]
  },
  {
   "cell_type": "markdown",
   "id": "70ce7ec6",
   "metadata": {},
   "source": [
    "### 🔹 Types of Output Parsers in LangChain\n"
   ]
  },
  {
   "cell_type": "markdown",
   "id": "b1a8f3a5",
   "metadata": {},
   "source": [
    "### 1. **`StrOutputParser`** : String output parser\n",
    "\n",
    "* The StrOutputParser is the simplest output parser in LangChain. It is used to parse the output of a Language Model (LLM) and return it as a plain string.\n",
    "\n",
    "\n",
    "* Returns the raw string as-is.\n",
    "\n",
    "\n",
    "* Use when you don’t care about structure.\n",
    "\n",
    "\n",
    "```python\n",
    "from langchain_core.output_parsers import StrOutputParser\n",
    "\n",
    "parser = StrOutputParser()\n",
    "parser.parse(\"Hello world!\")   # → \"Hello world!\"\n",
    "```"
   ]
  },
  {
   "cell_type": "markdown",
   "id": "f38c54fa",
   "metadata": {},
   "source": []
  },
  {
   "cell_type": "markdown",
   "id": "74af8c06",
   "metadata": {},
   "source": [
    "### 2. **`CommaSeparatedListOutputParser`**\n",
    "\n",
    "* Parses output into a Python list, assuming items are comma-separated.\n",
    "\n",
    "```python\n",
    "from langchain.output_parsers import CommaSeparatedListOutputParser\n",
    "\n",
    "parser = CommaSeparatedListOutputParser()\n",
    "parser.parse(\"apples, bananas, cherries\")  \n",
    "# → [\"apples\", \"bananas\", \"cherries\"]\n",
    "```\n",
    "\n",
    "---\n",
    "\n",
    "### 3. **`RegexParser`**\n",
    "\n",
    "* Extracts values using regex patterns.\n",
    "\n",
    "```python\n",
    "from langchain.output_parsers import RegexParser\n",
    "\n",
    "parser = RegexParser(\n",
    "    regex=r\"Name: (.*), Age: (.*)\", \n",
    "    output_keys=[\"name\", \"age\"]\n",
    ")\n",
    "parser.parse(\"Name: Alice, Age: 30\")  \n",
    "# → {\"name\": \"Alice\", \"age\": \"30\"}\n",
    "```\n",
    "\n",
    "---\n",
    "\n",
    "### 4. **`PydanticOutputParser`**\n",
    "\n",
    "* Converts output into a **Pydantic model**.\n",
    "* Very useful for **structured extraction**.\n",
    "\n",
    "```python\n",
    "from pydantic import BaseModel\n",
    "from langchain.output_parsers import PydanticOutputParser\n",
    "\n",
    "class Person(BaseModel):\n",
    "    name: str\n",
    "    age: int\n",
    "\n",
    "parser = PydanticOutputParser(pydantic_object=Person)\n",
    "output = parser.parse('{\"name\": \"Alice\", \"age\": 30}')\n",
    "# → Person(name='Alice', age=30)\n",
    "```\n",
    "\n",
    "---\n",
    "\n",
    "### 2. **`JSONOutputParser`**\n",
    "\n",
    "* Ensures output is **valid JSON**.\n",
    "\n",
    "```python\n",
    "from langchain.output_parsers import JSONOutputParser\n",
    "\n",
    "parser = JSONOutputParser()\n",
    "parser.parse('{\"city\": \"New York\", \"country\": \"USA\"}')\n",
    "# → {'city': 'New York', 'country': 'USA'}\n",
    "```\n",
    "\n",
    "---\n",
    "\n",
    "### 6. **`StructuredOutputParser` (JSON Schema)**\n",
    "\n",
    "* Lets you define expected fields & schema.\n",
    "* LLM is prompted to follow that schema.\n",
    "\n",
    "```python\n",
    "from langchain.output_parsers import StructuredOutputParser, ResponseSchema\n",
    "\n",
    "schemas = [\n",
    "    ResponseSchema(name=\"name\", description=\"The person's name\"),\n",
    "    ResponseSchema(name=\"age\", description=\"The person's age\")\n",
    "]\n",
    "\n",
    "parser = StructuredOutputParser.from_response_schemas(schemas)\n",
    "format_instructions = parser.get_format_instructions()\n",
    "\n",
    "print(format_instructions)  \n",
    "# Instructs LLM to return valid JSON with \"name\" and \"age\"\n",
    "```"
   ]
  },
  {
   "cell_type": "markdown",
   "id": "4503b6c6",
   "metadata": {},
   "source": [
    "### 🔹 When to Use Which?\n",
    "\n",
    "* **Just need raw text** → `StrOutputParser`.\n",
    "\n",
    "\n",
    "* **Lists** → `CommaSeparatedListOutputParser`.\n",
    "\n",
    "\n",
    "* **Extract specific patterns** → `RegexParser`.\n",
    "\n",
    "\n",
    "* **Guaranteed schema / typed objects** → `PydanticOutputParser`.\n",
    "\n",
    "\n",
    "* **Generic JSON output** → `JSONOutputParser`.\n",
    "\n",
    "\n",
    "* **Schema-defined responses** (API-like) → `StructuredOutputParser`."
   ]
  },
  {
   "cell_type": "markdown",
   "id": "3c4aa347",
   "metadata": {},
   "source": [
    "### 🔹 Key Point\n",
    "\n",
    "* **Output Parsers** make sure your LLM responses are **predictable, validated, and machine-usable**.\n",
    "\n",
    "\n",
    "* They are especially useful in **pipelines/agents**, where downstream steps need structured inputs."
   ]
  },
  {
   "cell_type": "markdown",
   "id": "d231d938",
   "metadata": {},
   "source": [
    "⚡ If you’re working on production-grade apps:\n",
    "\n",
    "* Use **`PydanticOutputParser`** or **`StructuredOutputParser`** (they give you schema guarantees).\n",
    "\n",
    "\n",
    "* Wrap them with **`with_structured_output`** for even tighter validation."
   ]
  },
  {
   "cell_type": "markdown",
   "id": "6ac49ad0",
   "metadata": {},
   "source": []
  },
  {
   "cell_type": "markdown",
   "id": "630268e0",
   "metadata": {},
   "source": []
  },
  {
   "cell_type": "markdown",
   "id": "bff9d027",
   "metadata": {},
   "source": []
  },
  {
   "cell_type": "markdown",
   "id": "d34ef674",
   "metadata": {},
   "source": []
  },
  {
   "cell_type": "markdown",
   "id": "29ee8c27",
   "metadata": {},
   "source": []
  },
  {
   "cell_type": "markdown",
   "id": "a30f7cdc",
   "metadata": {},
   "source": []
  },
  {
   "cell_type": "markdown",
   "id": "1eb60515",
   "metadata": {},
   "source": []
  },
  {
   "cell_type": "code",
   "execution_count": null,
   "id": "4eb7b5eb",
   "metadata": {},
   "outputs": [],
   "source": []
  },
  {
   "cell_type": "markdown",
   "id": "07d58e59",
   "metadata": {},
   "source": []
  }
 ],
 "metadata": {
  "kernelspec": {
   "display_name": "Python 3 (ipykernel)",
   "language": "python",
   "name": "python3"
  },
  "language_info": {
   "codemirror_mode": {
    "name": "ipython",
    "version": 3
   },
   "file_extension": ".py",
   "mimetype": "text/x-python",
   "name": "python",
   "nbconvert_exporter": "python",
   "pygments_lexer": "ipython3",
   "version": "3.9.13"
  }
 },
 "nbformat": 4,
 "nbformat_minor": 5
}
