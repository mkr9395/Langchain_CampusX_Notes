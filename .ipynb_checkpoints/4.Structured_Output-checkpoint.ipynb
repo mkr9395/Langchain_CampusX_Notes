{
 "cells": [
  {
   "cell_type": "markdown",
   "id": "f55ed805",
   "metadata": {},
   "source": [
    "# Structured Output in LangChain | Generative AI using LangChain | Video 5 "
   ]
  },
  {
   "cell_type": "markdown",
   "id": "6cf5fb0b",
   "metadata": {},
   "source": [
    "https://youtu.be/y5EmRr1O1h4?list=PLKnIA16_RmvaTbihpo4MtzVm4XOQa0ER0"
   ]
  },
  {
   "cell_type": "markdown",
   "id": "453b2b7b",
   "metadata": {},
   "source": []
  },
  {
   "cell_type": "markdown",
   "id": "bb8f0257",
   "metadata": {},
   "source": []
  },
  {
   "cell_type": "markdown",
   "id": "c2e4f851",
   "metadata": {},
   "source": []
  },
  {
   "cell_type": "markdown",
   "id": "558163fd",
   "metadata": {},
   "source": []
  },
  {
   "cell_type": "markdown",
   "id": "bc50bcb3",
   "metadata": {},
   "source": []
  },
  {
   "cell_type": "markdown",
   "id": "6d1e12d7",
   "metadata": {},
   "source": []
  },
  {
   "cell_type": "markdown",
   "id": "8546d858",
   "metadata": {},
   "source": []
  },
  {
   "cell_type": "markdown",
   "id": "39c60a60",
   "metadata": {},
   "source": []
  },
  {
   "cell_type": "markdown",
   "id": "106e65a1",
   "metadata": {},
   "source": []
  },
  {
   "cell_type": "markdown",
   "id": "f727d26d",
   "metadata": {},
   "source": []
  },
  {
   "cell_type": "markdown",
   "id": "bb8789c6",
   "metadata": {},
   "source": []
  },
  {
   "cell_type": "markdown",
   "id": "b6827bb7",
   "metadata": {},
   "source": []
  }
 ],
 "metadata": {
  "kernelspec": {
   "display_name": "Python 3 (ipykernel)",
   "language": "python",
   "name": "python3"
  },
  "language_info": {
   "codemirror_mode": {
    "name": "ipython",
    "version": 3
   },
   "file_extension": ".py",
   "mimetype": "text/x-python",
   "name": "python",
   "nbconvert_exporter": "python",
   "pygments_lexer": "ipython3",
   "version": "3.9.13"
  }
 },
 "nbformat": 4,
 "nbformat_minor": 5
}
