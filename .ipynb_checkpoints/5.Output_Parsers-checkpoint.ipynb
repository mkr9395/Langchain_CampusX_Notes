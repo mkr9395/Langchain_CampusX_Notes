{
 "cells": [
  {
   "cell_type": "markdown",
   "id": "5eff0cc1",
   "metadata": {},
   "source": [
    "# SESSION 8 : Output Parsers in LangChain | Generative AI using LangChain | Video 6"
   ]
  },
  {
   "cell_type": "markdown",
   "id": "873bd44f",
   "metadata": {},
   "source": [
    "https://youtu.be/Op6PbJZ5b2Q?list=PLKnIA16_RmvaTbihpo4MtzVm4XOQa0ER0"
   ]
  },
  {
   "cell_type": "markdown",
   "id": "3fed91e7",
   "metadata": {},
   "source": [
    "### Open source models don't give structured_output, so we need Output parsers for it. They can work with both can and can't model"
   ]
  },
  {
   "cell_type": "markdown",
   "id": "963365c7",
   "metadata": {},
   "source": [
    "__Output Parsers__ in LangChain help convert raw LLM responses into structured formats like JSON, CSV, Pydantic models, and more. They ensure consistency, validation, and ease of use in applications."
   ]
  },
  {
   "cell_type": "markdown",
   "id": "4c2c546e",
   "metadata": {},
   "source": [
    "\n",
    "\n",
    "In **LangChain**, an **Output Parser** is a utility that:\n",
    "\n",
    "* **Takes the raw text output** from an LLM.\n",
    "\n",
    "\n",
    "* **Converts/parses it into structured Python objects** (dicts, lists, Pydantic models, JSON, etc.).\n",
    "\n",
    "\n",
    "* Optionally provides **formatting instructions** back to the LLM, so the LLM knows how to respond.\n",
    "\n",
    "👉 Think of it as the “translator” between **free-text LLM output** and **structured data your code can use**."
   ]
  },
  {
   "cell_type": "markdown",
   "id": "3ff49072",
   "metadata": {},
   "source": [
    "### 🔹 Why do we need Output Parsers?\n",
    "\n",
    "LLMs naturally return unstructured text. But in real-world apps, you usually need structured results:\n",
    "\n",
    "* ✅ Extracting entities (name, date, amount).\n",
    "* ✅ Returning valid JSON (not \"almost JSON\").\n",
    "* ✅ Parsing classification labels (positive/negative).\n",
    "* ✅ Turning outputs into **Python objects** that your pipeline can consume.\n",
    "\n",
    "Without parsers, you’d have to do brittle post-processing with regex, JSON parsing, etc."
   ]
  },
  {
   "cell_type": "markdown",
   "id": "559b1c2e",
   "metadata": {},
   "source": [
    "### 🔹 Types of Output Parsers in LangChain\n"
   ]
  },
  {
   "cell_type": "markdown",
   "id": "fe4f0578",
   "metadata": {},
   "source": [
    "### 1. **`StrOutputParser`** : String output parser\n",
    "\n",
    "* The StrOutputParser is the simplest output parser in LangChain. It is used to parse the output of a Language Model (LLM) and return it as a plain string.\n",
    "\n",
    "\n",
    "* Returns the raw string as-is.\n",
    "\n",
    "\n",
    "* Use when you don’t care about structure.\n",
    "\n",
    "\n",
    "```python\n",
    "from langchain_core.output_parsers import StrOutputParser\n",
    "\n",
    "parser = StrOutputParser()\n",
    "parser.parse(\"Hello world!\")   # → \"Hello world!\"\n",
    "```"
   ]
  },
  {
   "cell_type": "markdown",
   "id": "93d816f5",
   "metadata": {},
   "source": []
  },
  {
   "cell_type": "markdown",
   "id": "7f7a56eb",
   "metadata": {},
   "source": [
    "### 2. **`CommaSeparatedListOutputParser`**\n",
    "\n",
    "* Parses output into a Python list, assuming items are comma-separated.\n",
    "\n",
    "```python\n",
    "from langchain.output_parsers import CommaSeparatedListOutputParser\n",
    "\n",
    "parser = CommaSeparatedListOutputParser()\n",
    "parser.parse(\"apples, bananas, cherries\")  \n",
    "# → [\"apples\", \"bananas\", \"cherries\"]\n",
    "```\n",
    "\n",
    "---\n",
    "\n",
    "### 3. **`RegexParser`**\n",
    "\n",
    "* Extracts values using regex patterns.\n",
    "\n",
    "```python\n",
    "from langchain.output_parsers import RegexParser\n",
    "\n",
    "parser = RegexParser(\n",
    "    regex=r\"Name: (.*), Age: (.*)\", \n",
    "    output_keys=[\"name\", \"age\"]\n",
    ")\n",
    "parser.parse(\"Name: Alice, Age: 30\")  \n",
    "# → {\"name\": \"Alice\", \"age\": \"30\"}\n",
    "```\n",
    "\n",
    "---\n",
    "\n",
    "### 4. **`PydanticOutputParser`**\n",
    "\n",
    "* Converts output into a **Pydantic model**.\n",
    "* Very useful for **structured extraction**.\n",
    "\n",
    "```python\n",
    "from pydantic import BaseModel\n",
    "from langchain.output_parsers import PydanticOutputParser\n",
    "\n",
    "class Person(BaseModel):\n",
    "    name: str\n",
    "    age: int\n",
    "\n",
    "parser = PydanticOutputParser(pydantic_object=Person)\n",
    "output = parser.parse('{\"name\": \"Alice\", \"age\": 30}')\n",
    "# → Person(name='Alice', age=30)\n",
    "```\n",
    "\n",
    "---\n",
    "\n",
    "### 5. **`JSONOutputParser`**\n",
    "\n",
    "* Ensures output is **valid JSON**.\n",
    "\n",
    "```python\n",
    "from langchain.output_parsers import JSONOutputParser\n",
    "\n",
    "parser = JSONOutputParser()\n",
    "parser.parse('{\"city\": \"New York\", \"country\": \"USA\"}')\n",
    "# → {'city': 'New York', 'country': 'USA'}\n",
    "```\n",
    "\n",
    "---\n",
    "\n",
    "### 6. **`StructuredOutputParser` (JSON Schema)**\n",
    "\n",
    "* Lets you define expected fields & schema.\n",
    "* LLM is prompted to follow that schema.\n",
    "\n",
    "```python\n",
    "from langchain.output_parsers import StructuredOutputParser, ResponseSchema\n",
    "\n",
    "schemas = [\n",
    "    ResponseSchema(name=\"name\", description=\"The person's name\"),\n",
    "    ResponseSchema(name=\"age\", description=\"The person's age\")\n",
    "]\n",
    "\n",
    "parser = StructuredOutputParser.from_response_schemas(schemas)\n",
    "format_instructions = parser.get_format_instructions()\n",
    "\n",
    "print(format_instructions)  \n",
    "# Instructs LLM to return valid JSON with \"name\" and \"age\"\n",
    "```"
   ]
  },
  {
   "cell_type": "markdown",
   "id": "948900e2",
   "metadata": {},
   "source": [
    "### 🔹 When to Use Which?\n",
    "\n",
    "* **Just need raw text** → `StrOutputParser`.\n",
    "\n",
    "\n",
    "* **Lists** → `CommaSeparatedListOutputParser`.\n",
    "\n",
    "\n",
    "* **Extract specific patterns** → `RegexParser`.\n",
    "\n",
    "\n",
    "* **Guaranteed schema / typed objects** → `PydanticOutputParser`.\n",
    "\n",
    "\n",
    "* **Generic JSON output** → `JSONOutputParser`.\n",
    "\n",
    "\n",
    "* **Schema-defined responses** (API-like) → `StructuredOutputParser`."
   ]
  },
  {
   "cell_type": "markdown",
   "id": "6ab2fc10",
   "metadata": {},
   "source": [
    "### 🔹 Key Point\n",
    "\n",
    "* **Output Parsers** make sure your LLM responses are **predictable, validated, and machine-usable**.\n",
    "\n",
    "\n",
    "* They are especially useful in **pipelines/agents**, where downstream steps need structured inputs."
   ]
  },
  {
   "cell_type": "markdown",
   "id": "0a455b69",
   "metadata": {},
   "source": [
    "⚡ If you’re working on production-grade apps:\n",
    "\n",
    "* Use **`PydanticOutputParser`** or **`StructuredOutputParser`** (they give you schema guarantees).\n",
    "\n",
    "\n",
    "* Wrap them with **`with_structured_output`** for even tighter validation."
   ]
  },
  {
   "cell_type": "markdown",
   "id": "db293f64",
   "metadata": {},
   "source": []
  },
  {
   "cell_type": "markdown",
   "id": "7b3cdcf1",
   "metadata": {},
   "source": []
  },
  {
   "cell_type": "markdown",
   "id": "3771e42d",
   "metadata": {},
   "source": []
  },
  {
   "cell_type": "markdown",
   "id": "3fdf4351",
   "metadata": {},
   "source": []
  },
  {
   "cell_type": "markdown",
   "id": "a0f6719f",
   "metadata": {},
   "source": []
  },
  {
   "cell_type": "markdown",
   "id": "a50e6cc9",
   "metadata": {},
   "source": []
  },
  {
   "cell_type": "markdown",
   "id": "6a00d6bd",
   "metadata": {},
   "source": []
  },
  {
   "cell_type": "code",
   "execution_count": null,
   "id": "48ffed75",
   "metadata": {},
   "outputs": [],
   "source": []
  },
  {
   "cell_type": "markdown",
   "id": "b3420ceb",
   "metadata": {},
   "source": []
  }
 ],
 "metadata": {
  "kernelspec": {
   "display_name": "Python 3 (ipykernel)",
   "language": "python",
   "name": "python3"
  },
  "language_info": {
   "codemirror_mode": {
    "name": "ipython",
    "version": 3
   },
   "file_extension": ".py",
   "mimetype": "text/x-python",
   "name": "python",
   "nbconvert_exporter": "python",
   "pygments_lexer": "ipython3",
   "version": "3.9.13"
  }
 },
 "nbformat": 4,
 "nbformat_minor": 5
}
